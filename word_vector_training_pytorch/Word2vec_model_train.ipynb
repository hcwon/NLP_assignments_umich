{
 "cells": [
  {
   "cell_type": "code",
   "execution_count": 2,
   "id": "0c6d979b-cf07-49a0-ab23-83df1307477c",
   "metadata": {},
   "outputs": [
    {
     "data": {
      "text/plain": [
       "<torch._C.Generator at 0x7fac0a07a970>"
      ]
     },
     "execution_count": 2,
     "metadata": {},
     "output_type": "execute_result"
    }
   ],
   "source": [
    "import numpy as np\n",
    "import torch\n",
    "from torch.utils.data import Dataset, DataLoader\n",
    "\n",
    "import torch\n",
    "import torch.nn as nn\n",
    "import torch.nn.functional as F\n",
    "from torch.nn import init\n",
    "\n",
    "from tqdm.auto import tqdm, trange\n",
    "from collections import Counter\n",
    "import random\n",
    "from torch import optim\n",
    "\n",
    "from torch.utils.tensorboard import SummaryWriter\n",
    "\n",
    "# Helpful for computing cosine similarity--Note that this is NOT a similarity!\n",
    "from scipy.spatial.distance import cosine\n",
    "\n",
    "# Handy command-line argument parsing\n",
    "import argparse\n",
    "\n",
    "# Sort of smart tokenization\n",
    "from nltk.corpus import stopwords  # import the stopwords\n",
    "from nltk.tokenize import RegexpTokenizer\n",
    "\n",
    "# We'll use this to save our models\n",
    "from gensim.models import KeyedVectors\n",
    "\n",
    "#\n",
    "# IMPORTANT NOTE: Always set your random seeds when dealing with stochastic\n",
    "# algorithms as it lets your bugs be reproducible and (more importantly) it lets\n",
    "# your results be reproducible by others.\n",
    "#\n",
    "random.seed(1234)\n",
    "np.random.seed(1234)\n",
    "torch.manual_seed(1234)"
   ]
  },
  {
   "cell_type": "code",
   "execution_count": 34,
   "id": "11071dc5-8d00-4118-9a27-381089ab4c68",
   "metadata": {},
   "outputs": [],
   "source": [
    "class Corpus:\n",
    "    \n",
    "    def __init__(self):\n",
    "\n",
    "        self.tokenizer = RegexpTokenizer(r'\\w+')\n",
    "\n",
    "        self.word_to_index = {} # word to unique-id\n",
    "        self.index_to_word = {} # unique-id to word\n",
    "\n",
    "        # How many times each word occurs in our data after filtering\n",
    "        self.word_counts = Counter()\n",
    "        self.unique_words = []   # unique word list, also rank by its frequency, but it is not required\n",
    "        self.unique_words_freq = [] # the corresponding frequence list\n",
    "\n",
    "        # A utility data structure that lets us quickly sample \"negative\"\n",
    "        # instances in a context. This table contains unique-ids\n",
    "        self.negative_sampling_table = []\n",
    "        \n",
    "        # The dataset we'll use for training, as a sequence of unqiue word\n",
    "        # ids. This is the sequence across all documents after tokens have been\n",
    "        # randomly subsampled by the word2vec preprocessing step\n",
    "        self.word_sub_prob = {}\n",
    "        self.full_token_sequence_as_ids = []\n",
    "        \n",
    "    def tokenize(self, text):\n",
    "        '''\n",
    "        Tokenize the document and returns a list of the tokens\n",
    "        '''\n",
    "        return self.tokenizer.tokenize(text)        \n",
    "\n",
    "    def load_data(self, file_name, min_token_freq):\n",
    "        '''\n",
    "        Reads the data from the specified file as long long sequence of text\n",
    "        (ignoring line breaks) and populates the data structures of this\n",
    "        word2vec object.\n",
    "        '''\n",
    "\n",
    "        # Step 1: Read in the file and create a long sequence of tokens for\n",
    "        # all tokens in the file\n",
    "        data_txt = open(file_name, \"r\").read()\n",
    "        all_tokens = self.tokenizer.tokenize(data_txt)\n",
    "        all_tokens = [i.lower() for i in all_tokens]\n",
    "        print('Reading data and tokenizing')\n",
    "        # return all_tokens\n",
    "    \n",
    "        # Step 2: Count how many tokens we have of each type\n",
    "        token_counts = Counter(all_tokens)\n",
    "        # return self.word_counts\n",
    "        print('Counting token frequencies')\n",
    "\n",
    "        # Step 3: Replace all tokens below the specified frequency with an <UNK> token. \n",
    "        print(\"Performing minimum thresholding\")\n",
    "        for i in range(len(all_tokens)):\n",
    "            if token_counts[all_tokens[i]] < min_token_freq:\n",
    "                all_tokens[i] = '<UNK>'\n",
    "                \n",
    "        # Step 3.1: Delete all the stopwords\n",
    "        print(\"Performing stopwords removal\")\n",
    "        all_tokens = [i for i in all_tokens if i not in stopwords.words('english')]\n",
    "                \n",
    "        # step4:\n",
    "        self.word_counts = Counter(all_tokens)\n",
    "            \n",
    "        \n",
    "        # Step 5: Create the mapping word and integer\n",
    "        print(\"Performing word mapping\")\n",
    "        word_rank = sorted(self.word_counts.items(), key=lambda x: x[1], reverse=True)   # rank the word_counts based on frequency\n",
    "        word_list = [word[0] for word in word_rank]  # word_rank is a list of tuples.ex[('to', 10)], the word_list is unique list\n",
    "        word_freq = [word[1] for word in word_rank]\n",
    "    \n",
    "        self.unique_words = word_list\n",
    "        self.unique_words_freq = word_freq\n",
    "        \n",
    "        for i in range(len(word_list)):\n",
    "            self.word_to_index[word_list[i]] = i\n",
    "            self.index_to_word[i] = word_list[i]\n",
    "            \n",
    "            \n",
    "        # Step 6: perform word subsampling\n",
    "        print(\"Performing word subsampling\")\n",
    "        word_number = sum(self.word_counts.values())\n",
    "        for w in self.unique_words:\n",
    "            p = self.word_counts[w] / word_number\n",
    "            self.word_sub_prob[w] = (np.sqrt(p/0.001) + 1) * (0.001/p)  # calculate the probability\n",
    "            \n",
    "        # Steo 6.1: keep the word based on the probability\n",
    "        for t in all_tokens:\n",
    "            t_prob = min(1, self.word_sub_prob[t])            \n",
    "            if np.random.choice([0,1], p=[1-t_prob, t_prob]) == 1:\n",
    "                self.full_token_sequence_as_ids.append(self.word_to_index[t])       \n",
    "        \n",
    "        \n",
    "        #self.full_token_sequence_as_ids = [self.word_to_index[word] for word in all_tokens]\n",
    "\n",
    "        # Helpful print statement to verify what you've loaded\n",
    "        print('Loaded all data from %s; saw %d tokens (%d unique)' \\\n",
    "              % (file_name, len(self.full_token_sequence_as_ids),\n",
    "                 len(self.word_to_index)))\n",
    "        \n",
    "    def generate_negative_sampling_table(self, exp_power=0.75, table_size=1e6):\n",
    "     \n",
    "        print(\"Generating sampling table\")\n",
    "        # unique words is a sorted word list, now to find the corresponding frequency\n",
    "\n",
    "        power_array = np.power(np.array(self.unique_words_freq), exp_power)\n",
    "        prob_array = power_array / np.sum(power_array)\n",
    "\n",
    "        # print(np.sum(prob_array))  # to check if the summation is 1\n",
    "\n",
    "        # Step 2: Create the table to the correct size. You'll want this to be a\n",
    "        # numpy array of type int\n",
    "        # Step 3: Fill the table so that each word has a number of IDs\n",
    "        # proportionate to its probability of being sampled.\n",
    "        table = np.array([], dtype = np.int32)\n",
    "        for ind, val in enumerate(prob_array):\n",
    "            temp_array = np.full(round(val * table_size), ind)\n",
    "            table = np.hstack((table, temp_array))\n",
    "            \n",
    "        self.negative_sampling_table = table\n",
    "            \n",
    "        return table    \n",
    "        print(len(table))\n",
    "\n",
    "\n",
    "    def generate_negative_samples(self, cur_context_word_id, num_samples):  # the word_id is also a list\n",
    "\n",
    "        results = []\n",
    "        while len(results) < num_samples:\n",
    "            random_neg = np.random.choice(self.negative_sampling_table)  # return an int\n",
    "            if random_neg not in cur_context_word_id:\n",
    "                results.append(random_neg)\n",
    "\n",
    "        return results"
   ]
  },
  {
   "cell_type": "code",
   "execution_count": 79,
   "id": "f6b237ac-fcdf-4749-a7d3-d0a82ba9d4d2",
   "metadata": {
    "scrolled": true,
    "tags": []
   },
   "outputs": [
    {
     "name": "stdout",
     "output_type": "stream",
     "text": [
      "Reading data and tokenizing\n",
      "Counting token frequencies\n",
      "Performing minimum thresholding\n",
      "Loaded all data from wiki-bios.med.txt; saw 13713906 tokens (96572 unique)\n",
      "Generating sampling table\n"
     ]
    },
    {
     "data": {
      "text/plain": [
       "array([    0,     0,     0, ..., 96569, 96570, 96571])"
      ]
     },
     "execution_count": 79,
     "metadata": {},
     "output_type": "execute_result"
    }
   ],
   "source": [
    "corpus = Corpus()\n",
    "corpus.load_data('wiki-bios.med.txt', 5)\n",
    "corpus.generate_negative_sampling_table()\n",
    "# corpus.full_token_sequence_as_ids"
   ]
  },
  {
   "cell_type": "code",
   "execution_count": 80,
   "id": "036f4969-6942-44d0-90e3-97dad63d5f2f",
   "metadata": {
    "scrolled": true,
    "tags": []
   },
   "outputs": [
    {
     "data": {
      "application/vnd.jupyter.widget-view+json": {
       "model_id": "92e8c450322c43b7a97592403931425c",
       "version_major": 2,
       "version_minor": 0
      },
      "text/plain": [
       "  0%|          | 0/13713906 [00:00<?, ?it/s]"
      ]
     },
     "metadata": {},
     "output_type": "display_data"
    }
   ],
   "source": [
    "window_size = 2\n",
    "num_negative_samples_per_target = 2\n",
    "\n",
    "training_data = []\n",
    "# looping_times = 10\n",
    "looping_times = len(corpus.full_token_sequence_as_ids)\n",
    "    \n",
    "# Loop through each token in the corpus and generate an instance for each, \n",
    "# adding it to training_data\n",
    "for n in trange(looping_times):\n",
    "    \n",
    "    target = [corpus.full_token_sequence_as_ids[n]]   # convert the target to be a list\n",
    "    instance_tup = ()\n",
    "    \n",
    "    if target != [corpus.word_to_index['<UNK>']]:\n",
    "        if n - window_size < 0:   # left edge of the corpus\n",
    "            context = corpus.full_token_sequence_as_ids[0: n] + corpus.full_token_sequence_as_ids[n+1: n+window_size+1]\n",
    "            negative_sample = corpus.generate_negative_samples(context + target, num_negative_samples_per_target*window_size*2 + 2*window_size - len(context))\n",
    "            word_id = context + negative_sample\n",
    "            predicted_labels = np.hstack((np.full(len(context), 1, dtype=np.float32), np.full(len(negative_sample), 0, dtype=np.float32)))\n",
    "            instance_tup = (np.array(target), np.array(word_id), predicted_labels)\n",
    "\n",
    "        elif n + window_size >= looping_times:   # right edge of the corpus\n",
    "            context = corpus.full_token_sequence_as_ids[n-window_size: n] + corpus.full_token_sequence_as_ids[n+1:looping_times]\n",
    "            negative_sample = corpus.generate_negative_samples(context + target, num_negative_samples_per_target*window_size*2 + 2*window_size - len(context))\n",
    "            word_id = context + negative_sample\n",
    "            predicted_labels = np.hstack((np.full(len(context), 1, dtype=np.float32), np.full(len(negative_sample), 0, dtype=np.float32)))\n",
    "            instance_tup = (np.array(target), np.array(word_id), predicted_labels)\n",
    "\n",
    "        else:\n",
    "            context = corpus.full_token_sequence_as_ids[n-window_size: n] + corpus.full_token_sequence_as_ids[n+1: n+window_size+1]\n",
    "            negative_sample = corpus.generate_negative_samples(context + target, num_negative_samples_per_target*window_size*2)\n",
    "            word_id = context + negative_sample\n",
    "            predicted_labels = np.hstack((np.full(len(context), 1, dtype=np.float32), np.full(len(negative_sample), 0, dtype=np.float32)))\n",
    "            instance_tup = (np.array(target), np.array(word_id), predicted_labels)\n",
    "            \n",
    "        training_data.append(instance_tup)"
   ]
  },
  {
   "cell_type": "code",
   "execution_count": 81,
   "id": "4bc84c33-1217-4ef3-8112-51666cf0a83d",
   "metadata": {},
   "outputs": [
    {
     "name": "stdout",
     "output_type": "stream",
     "text": [
      "13621971\n"
     ]
    },
    {
     "data": {
      "text/plain": [
       "(array([56638]),\n",
       " array([  268,  7249,  8092,   407, 28066, 12765,     4, 58690,  2140,\n",
       "         3518, 69058,  1722]),\n",
       " array([1., 1., 1., 1., 0., 0., 0., 0., 0., 0., 0., 0.], dtype=float32))"
      ]
     },
     "execution_count": 81,
     "metadata": {},
     "output_type": "execute_result"
    }
   ],
   "source": [
    "print(len(training_data))\n",
    "training_data[10]"
   ]
  },
  {
   "cell_type": "code",
   "execution_count": 82,
   "id": "c6e71244-56c2-4b84-8445-06f6bd0027b2",
   "metadata": {},
   "outputs": [],
   "source": [
    "class Word2Vec(nn.Module):\n",
    "    \n",
    "    def __init__(self, vocab_size, embedding_size):\n",
    "        super(Word2Vec, self).__init__()\n",
    "        \n",
    "        self.target_embeddings = nn.Embedding(vocab_size, embedding_size)\n",
    "        self.context_embeddings = nn.Embedding(vocab_size, embedding_size)\n",
    "        \n",
    "        self.vocab_size = vocab_size\n",
    "        self.embedding_size = embedding_size\n",
    "        self.init_emb(init_range=0.5/self.vocab_size)\n",
    "        \n",
    "        self.sm = nn.Sigmoid()\n",
    "        \n",
    "        \n",
    "    def init_emb(self, init_range):\n",
    "        \n",
    "        self.target_embeddings.weight.data.uniform_(-init_range, init_range)\n",
    "        self.context_embeddings.weight.data.uniform_(-init_range, init_range)\n",
    "\n",
    "        \n",
    "    def forward(self, target_word_id, context_word_ids):\n",
    "        \n",
    "        vt = self.target_embeddings(target_word_id)  # target word is a tensor\n",
    "        vc = self.context_embeddings(context_word_ids)\n",
    "        out = torch.bmm(vc, vt.squeeze().unsqueeze(2)).squeeze()\n",
    "        return self.sm(out)"
   ]
  },
  {
   "cell_type": "code",
   "execution_count": 85,
   "id": "4aa3d78a-3947-483e-b2ef-a2d75694df8c",
   "metadata": {
    "scrolled": true,
    "tags": []
   },
   "outputs": [
    {
     "data": {
      "application/vnd.jupyter.widget-view+json": {
       "model_id": "769555f6742d48039acc5fdede9153c3",
       "version_major": 2,
       "version_minor": 0
      },
      "text/plain": [
       "  0%|          | 0/212844 [00:00<?, ?it/s]"
      ]
     },
     "metadata": {},
     "output_type": "display_data"
    },
    {
     "data": {
      "application/vnd.jupyter.widget-view+json": {
       "model_id": "544ee656b3c1443cbfd9ede2ac221b46",
       "version_major": 2,
       "version_minor": 0
      },
      "text/plain": [
       "  0%|          | 0/212844 [00:00<?, ?it/s]"
      ]
     },
     "metadata": {},
     "output_type": "display_data"
    }
   ],
   "source": [
    "# TODO: Set your training stuff, hyperparameters, models, tensorboard writer etc. here\n",
    "batch_size = 64\n",
    "vocab_size = len(corpus.word_to_index)\n",
    "k = 50   # The dimension of the embedding\n",
    "learning_rate = 5e-5\n",
    "epochs = 2\n",
    "train_loader = torch.utils.data.DataLoader(dataset=training_data,    # load the data\n",
    "                                           batch_size=batch_size, \n",
    "                                           shuffle=True)\n",
    "total_step = len(train_loader)\n",
    "w2v = Word2Vec(vocab_size, k)\n",
    "criterion = nn.BCELoss()\n",
    "optimizer = torch.optim.Adam(w2v.parameters(), lr=learning_rate)\n",
    "max_steps = 10000\n",
    "\n",
    "writer = SummaryWriter()  # tensorboard summary writer\n",
    "\n",
    "# HINT: wrapping the epoch/step loops in nested tqdm calls is a great way\n",
    "# to keep track of how fast things are and how much longer training will take\n",
    "\n",
    "for epoch in range(epochs):\n",
    "\n",
    "    loss_sum = 0    \n",
    "    # TODO: use your DataLoader to iterate over the data\n",
    "    for step, data in enumerate(tqdm(train_loader)):\n",
    "\n",
    "        # NOTE: since you created the data as a tuple of three np.array instances,\n",
    "        # these have now been converted to Tensor objects for us\n",
    "        target_ids, context_ids, labels = data        \n",
    "        outputs = w2v(target_ids, context_ids)\n",
    "        loss = criterion(outputs, labels)\n",
    "        \n",
    "        optimizer.zero_grad()\n",
    "        loss.backward()\n",
    "        optimizer.step()        \n",
    "        loss_sum +=loss.item()\n",
    "        \n",
    "        if (step+1) % 100 == 0:\n",
    "            # print ('Epoch [{}/{}], Step [{}/{}], Loss: {:.4f}' \n",
    "            #        .format(epoch+1, epochs, step+1, total_step, loss_sum))\n",
    "            writer.add_scalar(\"Loss/train\", loss_sum, step+1)  # add to the tensor board\n",
    "            loss_sum = 0\n",
    "            \n",
    "        # if step > max_steps:\n",
    "        #     break\n",
    "            \n",
    "writer.flush()"
   ]
  },
  {
   "cell_type": "code",
   "execution_count": 107,
   "id": "2b7e8923-37ee-481d-a2af-88e2662ad3d9",
   "metadata": {},
   "outputs": [
    {
     "data": {
      "application/vnd.jupyter.widget-view+json": {
       "model_id": "8db36a00b41f442da6a564b406744b83",
       "version_major": 2,
       "version_minor": 0
      },
      "text/plain": [
       "  0%|          | 0/26606 [00:00<?, ?it/s]"
      ]
     },
     "metadata": {},
     "output_type": "display_data"
    }
   ],
   "source": [
    "# test the runtime of different batch sizes\n",
    "\n",
    "batch_size = 512\n",
    "vocab_size = len(corpus.word_to_index)\n",
    "k = 50   # The dimension of the embedding\n",
    "learning_rate = 5e-5\n",
    "epochs = 1\n",
    "train_loader = torch.utils.data.DataLoader(dataset=training_data,    # load the data\n",
    "                                           batch_size=batch_size, \n",
    "                                           shuffle=True)\n",
    "total_step = len(train_loader)\n",
    "w2v_test = Word2Vec(vocab_size, k)\n",
    "criterion = nn.BCELoss()\n",
    "optimizer = torch.optim.Adam(w2v_test.parameters(), lr=learning_rate)\n",
    "max_steps = 1000\n",
    "\n",
    "for epoch in range(epochs):\n",
    "    for step, data in enumerate(tqdm(train_loader)):\n",
    "        target_ids, context_ids, labels = data        \n",
    "        outputs = w2v_test(target_ids, context_ids)\n",
    "        loss = criterion(outputs, labels)\n",
    "        \n",
    "        optimizer.zero_grad()\n",
    "        loss.backward()\n",
    "        optimizer.step()        \n",
    "        loss_sum +=loss.item()\n",
    "        if step > max_steps:\n",
    "            break\n",
    "            "
   ]
  },
  {
   "cell_type": "code",
   "execution_count": 112,
   "id": "dd494c39-4b01-4fe8-b849-d4c1bbacd154",
   "metadata": {},
   "outputs": [
    {
     "data": {
      "image/png": "[encoded data removed]",
      "text/plain": [
       "<Figure size 648x432 with 1 Axes>"
      ]
     },
     "metadata": {
      "needs_background": "light"
     },
     "output_type": "display_data"
    }
   ],
   "source": [
    "import matplotlib.pyplot as plt\n",
    "\n",
    "batchsize = [2, 8, 16, 32, 64, 128, 256, 512]\n",
    "expected_runtime = [111, 30, 15, 10, 5, 3, 1.75, 1]\n",
    "\n",
    "x_1 = np.log(np.array(batchsize))\n",
    "y_1 = np.array(expected_runtime)\n",
    "\n",
    "fig, ax = plt.subplots(figsize=(9, 6))\n",
    "ax.plot(x_1, y_1)\n",
    "ax.set_xlabel('batchsize_log'); ax.set_ylabel('expected_runtime')\n",
    "ax.set_title('How batch size affect training time')\n",
    "fig.savefig(\"runtime_batch.jpg\",bbox_inches='tight', dpi=144)"
   ]
  },
  {
   "cell_type": "code",
   "execution_count": 116,
   "id": "76bd3426-4ba4-40f6-bc5e-1ce85e5ee460",
   "metadata": {},
   "outputs": [
    {
     "data": {
      "application/vnd.jupyter.widget-view+json": {
       "model_id": "bfe167e4d1284326982ff58541d9654f",
       "version_major": 2,
       "version_minor": 0
      },
      "text/plain": [
       "  0%|          | 0/96572 [00:00<?, ?it/s]"
      ]
     },
     "metadata": {},
     "output_type": "display_data"
    },
    {
     "data": {
      "text/plain": [
       "[{'word': 'march', 'score': 0.9984798431396484},\n",
       " {'word': 'october', 'score': 0.9982365965843201},\n",
       " {'word': 'february', 'score': 0.997121274471283},\n",
       " {'word': 'december', 'score': 0.9958194494247437},\n",
       " {'word': 'november', 'score': 0.9956890344619751},\n",
       " {'word': 'september', 'score': 0.9950610399246216},\n",
       " {'word': 'june', 'score': 0.9948214888572693},\n",
       " {'word': 'july', 'score': 0.992501974105835},\n",
       " {'word': 'august', 'score': 0.990580141544342},\n",
       " {'word': 'january', 'score': 0.9894656538963318}]"
      ]
     },
     "execution_count": 116,
     "metadata": {},
     "output_type": "execute_result"
    }
   ],
   "source": [
    "w2v.eval()\n",
    "def get_neighbors(model, word_to_index, target_word):\n",
    "    \"\"\" \n",
    "    Finds the top 10 most similar words to a target word\n",
    "    \"\"\"\n",
    "    outputs = []\n",
    "    for word, index in tqdm(word_to_index.items(), total=len(word_to_index)):\n",
    "        similarity = compute_cosine_similarity(model, word_to_index, target_word, word)\n",
    "        result = {\"word\": word, \"score\": similarity}\n",
    "        outputs.append(result)\n",
    "\n",
    "    # Sort by highest scores\n",
    "    neighbors = sorted(outputs, key=lambda o: o['score'], reverse=True)\n",
    "    return neighbors[1:11]\n",
    "\n",
    "def compute_cosine_similarity(model, word_to_index, word_one, word_two):\n",
    "    '''\n",
    "    Computes the cosine similarity between the two words\n",
    "    '''\n",
    "    try:\n",
    "        word_one_index = word_to_index[word_one]\n",
    "        word_two_index = word_to_index[word_two]\n",
    "    except KeyError:\n",
    "        return 0\n",
    "\n",
    "    embedding_one = model.target_embeddings(torch.LongTensor([word_one_index]))\n",
    "    embedding_two = model.target_embeddings(torch.LongTensor([word_two_index]))\n",
    "    similarity = 1 - abs(float(cosine(embedding_one.detach().numpy(),\n",
    "                                      embedding_two.detach().numpy())))\n",
    "    return similarity\n",
    "\n",
    "get_neighbors(w2v, corpus.word_to_index, \"april\")"
   ]
  },
  {
   "cell_type": "code",
   "execution_count": 96,
   "id": "653dd7df-4194-444a-8fdd-02b9fb27efbe",
   "metadata": {},
   "outputs": [],
   "source": [
    "def save(model, corpus, filename):\n",
    "    '''\n",
    "    Saves the model to the specified filename as a gensim KeyedVectors in the\n",
    "    text format so you can load it separately.\n",
    "    '''\n",
    "\n",
    "    # Creates an empty KeyedVectors with our embedding size\n",
    "    kv = KeyedVectors(vector_size=model.embedding_size)        \n",
    "    vectors = []\n",
    "    words = []\n",
    "    # Get the list of words/vectors in a consistent order\n",
    "    for index in trange(model.target_embeddings.num_embeddings):\n",
    "        word = corpus.index_to_word[index]\n",
    "        vectors.append(model.target_embeddings(torch.LongTensor([index])).detach().numpy()[0])\n",
    "        words.append(word)\n",
    "\n",
    "    # Fills the KV object with our data in the right order\n",
    "    kv.add_vectors(words, vectors) \n",
    "    kv.save_word2vec_format(filename, binary=False)"
   ]
  },
  {
   "cell_type": "code",
   "execution_count": 97,
   "id": "eb8744dd-582e-4176-9e31-5145b1484f9e",
   "metadata": {},
   "outputs": [
    {
     "data": {
      "application/vnd.jupyter.widget-view+json": {
       "model_id": "1257487990bf4bde8d1fe4e72b5bbcac",
       "version_major": 2,
       "version_minor": 0
      },
      "text/plain": [
       "  0%|          | 0/96572 [00:00<?, ?it/s]"
      ]
     },
     "metadata": {},
     "output_type": "display_data"
    }
   ],
   "source": [
    "save(w2v, corpus, \"batch64_epoch2.kv\")"
   ]
  },
  {
   "cell_type": "code",
   "execution_count": null,
   "id": "aba8eafb-544d-4616-9f2d-46c88a526f00",
   "metadata": {},
   "outputs": [],
   "source": []
  }
 ],
 "metadata": {
  "kernelspec": {
   "display_name": "Python 3 (ipykernel)",
   "language": "python",
   "name": "python3"
  },
  "language_info": {
   "codemirror_mode": {
    "name": "ipython",
    "version": 3
   },
   "file_extension": ".py",
   "mimetype": "text/x-python",
   "name": "python",
   "nbconvert_exporter": "python",
   "pygments_lexer": "ipython3",
   "version": "3.7.11"
  }
 },
 "nbformat": 4,
 "nbformat_minor": 5
}
