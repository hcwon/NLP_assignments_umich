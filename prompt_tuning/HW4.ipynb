{
 "cells": [
  {
   "cell_type": "code",
   "execution_count": 1,
   "id": "d2416a96-ddaf-4de7-8a48-c2ce348e27ad",
   "metadata": {},
   "outputs": [],
   "source": [
    "import numpy as np\n",
    "import pandas as pd\n",
    "import seaborn as sns\n",
    "\n",
    "from transformers import BertTokenizer, BertModel\n",
    "tokenizer = BertTokenizer.from_pretrained(\"microsoft/MiniLM-L12-H384-uncased\")\n"
   ]
  },
  {
   "cell_type": "markdown",
   "id": "c0be9158-961c-470d-9241-c6d22020a267",
   "metadata": {},
   "source": [
    "### Problem 1: Use pretrained Bert Tokenizer"
   ]
  },
  {
   "cell_type": "code",
   "execution_count": 79,
   "id": "3521a11d-23c4-4c5e-8007-c16e75240f24",
   "metadata": {},
   "outputs": [
    {
     "data": {
      "text/plain": [
       "{'input_ids': [101, 11704, 102], 'token_type_ids': [0, 0, 0], 'attention_mask': [1, 1, 1]}"
      ]
     },
     "execution_count": 79,
     "metadata": {},
     "output_type": "execute_result"
    }
   ],
   "source": [
    "from transformers import BertTokenizer, BertModel\n",
    "tokenizer = BertTokenizer.from_pretrained(\"microsoft/MiniLM-L12-H384-uncased\")\n",
    "\n",
    "tokenizer('toxic')"
   ]
  },
  {
   "cell_type": "markdown",
   "id": "e6c25332-1baf-499a-ac55-4deda9ce74f3",
   "metadata": {},
   "source": [
    "### Problem 2: Customize prompts and verbalizer"
   ]
  },
  {
   "cell_type": "code",
   "execution_count": null,
   "id": "2d1f9be3-2bbe-46f6-bdca-b0577596424e",
   "metadata": {},
   "outputs": [],
   "source": [
    "class ToxicPVP(PVP):\n",
    "    VERBALIZER_0 = {\n",
    "        \"0\": [\"polite\", \"good\"],\n",
    "        \"1\": [\"rude\", \"bad\"]\n",
    "    }\n",
    "    \n",
    "    VERBALIZER_1 = {\n",
    "        \"0\": [\"like\"],\n",
    "        \"1\": [\"hate\"]\n",
    "    }\n",
    "\n",
    "    VERBALIZER_2 = {\n",
    "        \"0\": [\"False\"],\n",
    "        \"1\": [\"True\"]\n",
    "    }\n",
    "    \n",
    "    VERBALIZER_3 = {\n",
    "        \"0\": [\"No\"],\n",
    "        \"1\": [\"Yes\"]\n",
    "    }\n",
    "    \n",
    "    VERBALIZER_4 = {\n",
    "        \"0\": [\"Yes\"],\n",
    "        \"1\": [\"No\"]\n",
    "    }\n",
    "    \n",
    "    def get_parts(self, example: InputExample) -> FilledPattern:\n",
    "        text = self.shortenable(example.text_a)\n",
    "\n",
    "        if self.pattern_id == 0:\n",
    "            return [text, 'In summary, the words are', self.mask, '.'], []\n",
    "        elif self.pattern_id == 1:\n",
    "            return [text, 'I', self.mask, 'what he said.'],[]\n",
    "        elif self.pattern_id == 2:\n",
    "            return [text, 'His statement was', self.mask, '.'],[]\n",
    "        elif self.pattern_id == 3:\n",
    "            return [text, 'All in all, the language was', self.mask, '.'],[]\n",
    "        elif self.pattern_id == 4:\n",
    "            return [text, 'Question: Is the language toxic? Answer:', self.mask, '.'],[]\n",
    "        elif self.pattern_id == 5:\n",
    "            return [text, 'Question: Do you like what he said? Answer:', self.mask, '.'],[]\n",
    "        elif self.pattern_id == 6:\n",
    "            return [text, 'Question: Is the man rude? Answer:', self.mask, '.'],[]\n",
    "        elif self.pattern_id == 7:\n",
    "            return [text, 'I think the way he talked was', self.mask, '.'],[]\n",
    "        elif self.pattern_id == 8:\n",
    "            return ['I', self.mask, 'the following sentences.', text],[]\n",
    "        elif self.pattern_id == 9:\n",
    "            return [text,'Based on this, I thought the man was', self.mask, '.'],[]\n",
    "        else:\n",
    "            raise ValueError(\"No pattern implemented for id {}\".format(self.pattern_id))\n",
    "\n",
    "    def verbalize(self, label) -> List[str]:\n",
    "        if self.pattern_id == 0 or self.pattern_id == 2 or self.pattern_id == 3 or self.pattern_id == 7 or self.pattern_id == 9:            \n",
    "            return ToxicPVP.VERBALIZER_0[label]\n",
    "        elif self.pattern_id == 1 or self.pattern_id == 8:\n",
    "            return ToxicPVP.VERBALIZER_1[label]\n",
    "        elif self.pattern_id == 4:\n",
    "            return ToxicPVP.VERBALIZER_2[label]\n",
    "        elif self.pattern_id == 5:\n",
    "            return ToxicPVP.VERBALIZER_4[label]\n",
    "        elif self.pattern_id == 6:\n",
    "            return ToxicPVP.VERBALIZER_3[label]\n"
   ]
  },
  {
   "cell_type": "code",
   "execution_count": 70,
   "id": "7994c720-2abd-4162-856b-b2417f55cec0",
   "metadata": {},
   "outputs": [],
   "source": [
    "# Also we need to customize the processor\n",
    "\n",
    "class ToxicPVP(PVP):\n",
    "    VERBALIZER = {\n",
    "        \"0\": [\"bad\"],\n",
    "        \"1\": [\"good\"]\n",
    "    }\n",
    "\n",
    "    def get_parts(self, example: InputExample) -> FilledPattern:\n",
    "        text = self.shortenable(example.text_a)\n",
    "\n",
    "        if self.pattern_id == 0:\n",
    "            return ['It was', self.mask, '.', text], []\n",
    "        elif self.pattern_id == 1:\n",
    "            return [text, '. All in all, it was', self.mask, '.'], []\n",
    "        elif self.pattern_id == 2:\n",
    "            return ['Just', self.mask, \"!\"], [text]\n",
    "        elif self.pattern_id == 3:\n",
    "            return [text], ['In summary, the statement is', self.mask, '.']\n",
    "        else:\n",
    "            raise ValueError(\"No pattern implemented for id {}\".format(self.pattern_id))\n",
    "\n",
    "    def verbalize(self, label) -> List[str]:\n",
    "        return ToxicPVP.VERBALIZER[label]"
   ]
  },
  {
   "cell_type": "markdown",
   "id": "7fe0b831-d399-488f-9a19-a2031c319427",
   "metadata": {},
   "source": [
    "### Problem 3 Use trainer (See a seperate file named 'HW4_baseline.ipynb')"
   ]
  },
  {
   "cell_type": "markdown",
   "id": "76e3edd5-2d10-46b3-b050-e2e18cd72437",
   "metadata": {},
   "source": [
    "### Problem 4: Train Pet with different number of instances"
   ]
  },
  {
   "cell_type": "code",
   "execution_count": 149,
   "id": "21d7970b-3f3c-4be7-9b68-9d6844fe3159",
   "metadata": {},
   "outputs": [],
   "source": [
    "# randomly pick the sub-sumple of the train data and instore\n",
    "\n",
    "for num in [10, 50, 100, 500]:\n",
    "    new_train = train.sample(n=num)\n",
    "    # to ensure both classes existed in the sub-sumple\n",
    "    state = (0 in new_train['toxic'].tolist()) and (1 in new_train['toxic'].tolist())\n",
    "    while not state:\n",
    "        new_train = train.sample(n=num)\n",
    "        state = (0 in new_train['toxic'].tolist()) and (1 in new_train['toxic'].tolist())\n",
    "        \n",
    "    new_train.to_csv(\"hw4_train_\" + str(num) + '.csv', index=False)"
   ]
  },
  {
   "cell_type": "code",
   "execution_count": 150,
   "id": "bf36d842-2697-457d-b947-623c7e2ce81f",
   "metadata": {},
   "outputs": [],
   "source": [
    "# Use the command line\n",
    "%run cli.py \\\n",
    "--method pet \\\n",
    "--pattern_ids 0 1 2 3 4 5 6 7 8 9 \\\n",
    "--data_dir \"/content\" \\\n",
    "--model_type bert \\\n",
    "--model_name_or_path \"microsoft/MiniLM-L12-H384-uncased\" \\\n",
    "--task_name toxic \\\n",
    "--output_dir \"/content/record_500\" \\\n",
    "--do_train \\\n",
    "--do_eval \\\n",
    "--pet_per_gpu_eval_batch_size 16 \\\n",
    "--pet_per_gpu_train_batch_size 16 \\\n",
    "--pet_gradient_accumulation_steps 16 \\\n",
    "--pet_max_steps 250 \\\n",
    "--pet_max_seq_length 256 \\\n",
    "--pet_repetitions 1"
   ]
  },
  {
   "cell_type": "code",
   "execution_count": 10,
   "id": "6a5d4c44-fba5-4022-a52f-6521e599742c",
   "metadata": {},
   "outputs": [
    {
     "data": {
      "text/html": [
       "<div>\n",
       "<style scoped>\n",
       "    .dataframe tbody tr th:only-of-type {\n",
       "        vertical-align: middle;\n",
       "    }\n",
       "\n",
       "    .dataframe tbody tr th {\n",
       "        vertical-align: top;\n",
       "    }\n",
       "\n",
       "    .dataframe thead th {\n",
       "        text-align: right;\n",
       "    }\n",
       "</style>\n",
       "<table border=\"1\" class=\"dataframe\">\n",
       "  <thead>\n",
       "    <tr style=\"text-align: right;\">\n",
       "      <th></th>\n",
       "      <th>F1-Macro</th>\n",
       "      <th>Group</th>\n",
       "    </tr>\n",
       "  </thead>\n",
       "  <tbody>\n",
       "    <tr>\n",
       "      <th>0</th>\n",
       "      <td>0.862263</td>\n",
       "      <td>Regular Classifier</td>\n",
       "    </tr>\n",
       "    <tr>\n",
       "      <th>1</th>\n",
       "      <td>0.482542</td>\n",
       "      <td>10 instances</td>\n",
       "    </tr>\n",
       "    <tr>\n",
       "      <th>2</th>\n",
       "      <td>0.636772</td>\n",
       "      <td>50</td>\n",
       "    </tr>\n",
       "    <tr>\n",
       "      <th>3</th>\n",
       "      <td>0.707032</td>\n",
       "      <td>100</td>\n",
       "    </tr>\n",
       "    <tr>\n",
       "      <th>4</th>\n",
       "      <td>0.770668</td>\n",
       "      <td>500</td>\n",
       "    </tr>\n",
       "  </tbody>\n",
       "</table>\n",
       "</div>"
      ],
      "text/plain": [
       "   F1-Macro               Group\n",
       "0  0.862263  Regular Classifier\n",
       "1  0.482542        10 instances\n",
       "2  0.636772                  50\n",
       "3  0.707032                 100\n",
       "4  0.770668                 500"
      ]
     },
     "execution_count": 10,
     "metadata": {},
     "output_type": "execute_result"
    }
   ],
   "source": [
    "# all the results were trained by using colab, here I just report the final f1-macro\n",
    "result = pd.read_csv('result.csv')\n",
    "result"
   ]
  },
  {
   "cell_type": "markdown",
   "id": "7fd11bbe-8f42-4cc3-825d-940cca0c2873",
   "metadata": {},
   "source": [
    "### Problem 5: Plot the comparison of the results"
   ]
  },
  {
   "cell_type": "code",
   "execution_count": 14,
   "id": "c5d7e548-e317-4117-a2b8-e73e2a62db4e",
   "metadata": {},
   "outputs": [
    {
     "data": {
      "image/png": "[encoded data removed]",
      "text/plain": [
       "<Figure size 432x288 with 1 Axes>"
      ]
     },
     "metadata": {},
     "output_type": "display_data"
    }
   ],
   "source": [
    "result.loc[1, 'Group'] = '10'\n",
    "sns.set_theme(style=\"whitegrid\")\n",
    "ax = sns.barplot(x=\"Group\", y=\"F1-Macro\", data=result)\n",
    "ax.figure.savefig('result.png')"
   ]
  },
  {
   "cell_type": "code",
   "execution_count": null,
   "id": "e458eadc-db70-428c-80f9-b6f17cbeb3e6",
   "metadata": {},
   "outputs": [],
   "source": []
  }
 ],
 "metadata": {
  "kernelspec": {
   "display_name": "Python 3 (ipykernel)",
   "language": "python",
   "name": "python3"
  },
  "language_info": {
   "codemirror_mode": {
    "name": "ipython",
    "version": 3
   },
   "file_extension": ".py",
   "mimetype": "text/x-python",
   "name": "python",
   "nbconvert_exporter": "python",
   "pygments_lexer": "ipython3",
   "version": "3.7.11"
  }
 },
 "nbformat": 4,
 "nbformat_minor": 5
}
