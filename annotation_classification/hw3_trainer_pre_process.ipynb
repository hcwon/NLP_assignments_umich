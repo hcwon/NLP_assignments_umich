{
 "cells": [
  {
   "cell_type": "code",
   "execution_count": 1,
   "id": "b805b835-06cf-424f-b8e7-16d612b8d9d1",
   "metadata": {},
   "outputs": [],
   "source": [
    "import numpy as np\n",
    "import pandas as pd\n",
    "from tqdm.auto import tqdm"
   ]
  },
  {
   "cell_type": "code",
   "execution_count": 2,
   "id": "5f7dd519-db2b-4a38-97d4-8f8d1658b0cb",
   "metadata": {},
   "outputs": [],
   "source": [
    "data_total = pd.read_csv('data_train/si630w22-hw3-data.csv')\n",
    "data_train = pd.read_csv('data_train/si630w22-hw3-train.csv')\n",
    "data_dev = pd.read_csv('data_train/si630w22-hw3-dev.csv')\n",
    "data_test = pd.read_csv('data_train/si630w22-hw3-test.public.csv')"
   ]
  },
  {
   "cell_type": "code",
   "execution_count": 3,
   "id": "689d82d1-0411-4cfb-9a6f-024d9b9cdc2e",
   "metadata": {},
   "outputs": [
    {
     "data": {
      "text/html": [
       "<div>\n",
       "<style scoped>\n",
       "    .dataframe tbody tr th:only-of-type {\n",
       "        vertical-align: middle;\n",
       "    }\n",
       "\n",
       "    .dataframe tbody tr th {\n",
       "        vertical-align: top;\n",
       "    }\n",
       "\n",
       "    .dataframe thead th {\n",
       "        text-align: right;\n",
       "    }\n",
       "</style>\n",
       "<table border=\"1\" class=\"dataframe\">\n",
       "  <thead>\n",
       "    <tr style=\"text-align: right;\">\n",
       "      <th></th>\n",
       "      <th>question_id</th>\n",
       "      <th>question_text</th>\n",
       "      <th>reply_id</th>\n",
       "      <th>reply_text</th>\n",
       "      <th>rlen</th>\n",
       "    </tr>\n",
       "  </thead>\n",
       "  <tbody>\n",
       "    <tr>\n",
       "      <th>0</th>\n",
       "      <td>t3_n27vu3</td>\n",
       "      <td>What's something nice you like to do just to b...</td>\n",
       "      <td>gwhrhmf</td>\n",
       "      <td>Give compliments. It’s extremely easy to do an...</td>\n",
       "      <td>205</td>\n",
       "    </tr>\n",
       "    <tr>\n",
       "      <th>1</th>\n",
       "      <td>t3_n2az7m</td>\n",
       "      <td>So what is the best headphones for people who ...</td>\n",
       "      <td>gwiatps</td>\n",
       "      <td>I prefer Raycon Performance Ear Buds. They are...</td>\n",
       "      <td>178</td>\n",
       "    </tr>\n",
       "    <tr>\n",
       "      <th>2</th>\n",
       "      <td>t3_n2dzr9</td>\n",
       "      <td>How do you go on knowing a loved one only has ...</td>\n",
       "      <td>gwit1wj</td>\n",
       "      <td>Make it as memorable as the rest of your time ...</td>\n",
       "      <td>278</td>\n",
       "    </tr>\n",
       "    <tr>\n",
       "      <th>3</th>\n",
       "      <td>t3_n2iy9q</td>\n",
       "      <td>You’ve been dropped to the year 1800 with all ...</td>\n",
       "      <td>gwjhw8i</td>\n",
       "      <td>They're gonna burn me at the stake for being a...</td>\n",
       "      <td>52</td>\n",
       "    </tr>\n",
       "  </tbody>\n",
       "</table>\n",
       "</div>"
      ],
      "text/plain": [
       "  question_id                                      question_text reply_id  \\\n",
       "0   t3_n27vu3  What's something nice you like to do just to b...  gwhrhmf   \n",
       "1   t3_n2az7m  So what is the best headphones for people who ...  gwiatps   \n",
       "2   t3_n2dzr9  How do you go on knowing a loved one only has ...  gwit1wj   \n",
       "3   t3_n2iy9q  You’ve been dropped to the year 1800 with all ...  gwjhw8i   \n",
       "\n",
       "                                          reply_text  rlen  \n",
       "0  Give compliments. It’s extremely easy to do an...   205  \n",
       "1  I prefer Raycon Performance Ear Buds. They are...   178  \n",
       "2  Make it as memorable as the rest of your time ...   278  \n",
       "3  They're gonna burn me at the stake for being a...    52  "
      ]
     },
     "execution_count": 3,
     "metadata": {},
     "output_type": "execute_result"
    }
   ],
   "source": [
    "data_total.head(4)"
   ]
  },
  {
   "cell_type": "code",
   "execution_count": 4,
   "id": "6bfdabe6-4412-4eb6-b7cc-32bc6864e69f",
   "metadata": {},
   "outputs": [],
   "source": [
    "data1 = data_train.groupby('id')[\"rating\"].mean().reset_index()\n",
    "data2 = data_dev.groupby('id')[\"rating\"].mean().reset_index()"
   ]
  },
  {
   "cell_type": "code",
   "execution_count": 5,
   "id": "3b2f869c-d521-4878-aa7e-fb7e4b5f7366",
   "metadata": {},
   "outputs": [
    {
     "data": {
      "text/html": [
       "<div>\n",
       "<style scoped>\n",
       "    .dataframe tbody tr th:only-of-type {\n",
       "        vertical-align: middle;\n",
       "    }\n",
       "\n",
       "    .dataframe tbody tr th {\n",
       "        vertical-align: top;\n",
       "    }\n",
       "\n",
       "    .dataframe thead th {\n",
       "        text-align: right;\n",
       "    }\n",
       "</style>\n",
       "<table border=\"1\" class=\"dataframe\">\n",
       "  <thead>\n",
       "    <tr style=\"text-align: right;\">\n",
       "      <th></th>\n",
       "      <th>id</th>\n",
       "      <th>rating</th>\n",
       "      <th>question_id</th>\n",
       "      <th>question_text</th>\n",
       "      <th>reply_id</th>\n",
       "      <th>reply_text</th>\n",
       "      <th>rlen</th>\n",
       "    </tr>\n",
       "  </thead>\n",
       "  <tbody>\n",
       "    <tr>\n",
       "      <th>0</th>\n",
       "      <td>t3_n2714y</td>\n",
       "      <td>4.75</td>\n",
       "      <td>t3_n2714y</td>\n",
       "      <td>Is there someone you turned down in the past, ...</td>\n",
       "      <td>gwhmmsp</td>\n",
       "      <td>Idk if this counts but my when I was younger m...</td>\n",
       "      <td>391</td>\n",
       "    </tr>\n",
       "    <tr>\n",
       "      <th>1</th>\n",
       "      <td>t3_n27873</td>\n",
       "      <td>3.75</td>\n",
       "      <td>t3_n27873</td>\n",
       "      <td>What is, in your opinion, the saddest villain ...</td>\n",
       "      <td>gwhn3bt</td>\n",
       "      <td>My man Dr Heinz Doofenschmirts was born withou...</td>\n",
       "      <td>154</td>\n",
       "    </tr>\n",
       "    <tr>\n",
       "      <th>2</th>\n",
       "      <td>t3_n27b1e</td>\n",
       "      <td>3.50</td>\n",
       "      <td>t3_n27b1e</td>\n",
       "      <td>ELI5: How do we still not know how eels reprod...</td>\n",
       "      <td>gwho8nq</td>\n",
       "      <td>For a long time, it wasn't known how eels mate...</td>\n",
       "      <td>207</td>\n",
       "    </tr>\n",
       "    <tr>\n",
       "      <th>3</th>\n",
       "      <td>t3_n27qop</td>\n",
       "      <td>4.00</td>\n",
       "      <td>t3_n27qop</td>\n",
       "      <td>ELI5: Why can’t freshwater fish live in saltwa...</td>\n",
       "      <td>gwht547</td>\n",
       "      <td>A living cell is designed to work at specific ...</td>\n",
       "      <td>1145</td>\n",
       "    </tr>\n",
       "    <tr>\n",
       "      <th>4</th>\n",
       "      <td>t3_n27vu3</td>\n",
       "      <td>4.40</td>\n",
       "      <td>t3_n27vu3</td>\n",
       "      <td>What's something nice you like to do just to b...</td>\n",
       "      <td>gwhrhmf</td>\n",
       "      <td>Give compliments. It’s extremely easy to do an...</td>\n",
       "      <td>205</td>\n",
       "    </tr>\n",
       "  </tbody>\n",
       "</table>\n",
       "</div>"
      ],
      "text/plain": [
       "          id  rating question_id  \\\n",
       "0  t3_n2714y    4.75   t3_n2714y   \n",
       "1  t3_n27873    3.75   t3_n27873   \n",
       "2  t3_n27b1e    3.50   t3_n27b1e   \n",
       "3  t3_n27qop    4.00   t3_n27qop   \n",
       "4  t3_n27vu3    4.40   t3_n27vu3   \n",
       "\n",
       "                                       question_text reply_id  \\\n",
       "0  Is there someone you turned down in the past, ...  gwhmmsp   \n",
       "1  What is, in your opinion, the saddest villain ...  gwhn3bt   \n",
       "2  ELI5: How do we still not know how eels reprod...  gwho8nq   \n",
       "3  ELI5: Why can’t freshwater fish live in saltwa...  gwht547   \n",
       "4  What's something nice you like to do just to b...  gwhrhmf   \n",
       "\n",
       "                                          reply_text  rlen  \n",
       "0  Idk if this counts but my when I was younger m...   391  \n",
       "1  My man Dr Heinz Doofenschmirts was born withou...   154  \n",
       "2  For a long time, it wasn't known how eels mate...   207  \n",
       "3  A living cell is designed to work at specific ...  1145  \n",
       "4  Give compliments. It’s extremely easy to do an...   205  "
      ]
     },
     "execution_count": 5,
     "metadata": {},
     "output_type": "execute_result"
    }
   ],
   "source": [
    "df1 = pd.merge(left=data1, right=data_total, how='left',\n",
    "               left_on='id', right_on='question_id')\n",
    "df2 = pd.merge(left=data2, right=data_total, how='left',\n",
    "               left_on='id', right_on='question_id')\n",
    "\n",
    "df1.head()"
   ]
  },
  {
   "cell_type": "markdown",
   "id": "bca48b61-b8e6-4947-92ea-834446425cbb",
   "metadata": {},
   "source": [
    "## Gen train and dev for regression problem"
   ]
  },
  {
   "cell_type": "code",
   "execution_count": 6,
   "id": "3553e08e-836c-4d93-bb4e-7147e1e764e5",
   "metadata": {},
   "outputs": [],
   "source": [
    "# Data process for regression\n",
    "# def data_proc(x):\n",
    "#     return round(x)  # change the label to be 0,1,2,3,4\n",
    "\n",
    "# df1['rate'] = df1['rating'].map(data_proc)\n",
    "# df2['rate'] = df2['rating'].map(data_proc)\n",
    "df1.rename(columns={\"rating\": \"rate\"}, inplace=True)\n",
    "df2.rename(columns={\"rating\": \"rate\"}, inplace=True)\n",
    "# df1[['rate']] = df1[['rate']].astype(np.int32)\n",
    "# df2[['rate']] = df2[['rate']].astype(np.int32)\n",
    "\n",
    "df1[['question_text', 'reply_text', 'rate']].to_csv('data_train_reg.csv', encoding='utf8', index=False)\n",
    "df2[['question_text', 'reply_text', 'rate']].to_csv('data_dev_reg.csv', encoding='utf8', index=False)"
   ]
  },
  {
   "cell_type": "code",
   "execution_count": null,
   "id": "15650e3e-e3d3-4cd7-9e11-6c94e48c6ea4",
   "metadata": {},
   "outputs": [],
   "source": [
    "# If use classification instead of regression\n",
    "def data_proc(x):\n",
    "    return np.int32(round(x)-1)  # change the label to be 0,1,2,3,4\n",
    "\n",
    "df1['rate'] = df1['rating'].map(data_proc)\n",
    "df2['rate'] = df2['rating'].map(data_proc)\n",
    "\n",
    "# df1[['rate']] = df1[['rate']].astype(np.int32)\n",
    "# df2[['rate']] = df2[['rate']].astype(np.int32)\n",
    "\n",
    "df1[['question_text', 'reply_text', 'rate']].to_csv('data_train_clas.csv', encoding='utf8', index=False)\n",
    "df2[['question_text', 'reply_text', 'rate']].to_csv('data_dev_clas.csv', encoding='utf8', index=False)"
   ]
  },
  {
   "cell_type": "markdown",
   "id": "bf1ff3d9-6dca-4e29-873b-51a56952729c",
   "metadata": {},
   "source": [
    "## Data processing for Problem 13"
   ]
  },
  {
   "cell_type": "code",
   "execution_count": 7,
   "id": "cbb98485-f646-49ef-b99d-e6829d0e1336",
   "metadata": {},
   "outputs": [],
   "source": [
    "# create the new training data\n",
    "group_lst = data_train['group'].unique().tolist()\n",
    "file_path = 'P13_evaluation/'\n",
    "\n",
    "for g in group_lst:\n",
    "    new_train = data_train[data_train['group'] != g]\n",
    "    new_train_mean = new_train.groupby('id')[\"rating\"].mean().reset_index() # get the mean of the rating as the new label\n",
    "    new_train_merge = pd.merge(left=new_train_mean, right=data_total, how='left',\n",
    "               left_on='id', right_on='question_id')  # match the corresponding question and reply\n",
    "    new_train_merge.rename(columns={\"rating\": \"rate\"}, inplace=True)\n",
    "    new_train_merge[['question_text', 'reply_text', 'rate']].to_csv(''.join([file_path, g, '_train', '.csv']), encoding='utf8', index=False)\n",
    "    \n",
    "    "
   ]
  },
  {
   "cell_type": "code",
   "execution_count": 8,
   "id": "49039385-146d-4df0-b37f-dcaa623a891f",
   "metadata": {},
   "outputs": [
    {
     "data": {
      "application/vnd.jupyter.widget-view+json": {
       "model_id": "3ec4219be22e492593f5fbb43feabc04",
       "version_major": 2,
       "version_minor": 0
      },
      "text/plain": [
       "  0%|          | 0/24 [00:00<?, ?it/s]"
      ]
     },
     "metadata": {},
     "output_type": "display_data"
    }
   ],
   "source": [
    "# create three new dev sets for each data\n",
    "\n",
    "for g in tqdm(group_lst):\n",
    "    # (a) replies without any annotators in the g\n",
    "    dev_a = data_dev[data_dev['group'] != g]\n",
    "    dev_a_mean = dev_a.groupby('id')[\"rating\"].mean().reset_index() # get the mean of the rating as the new label\n",
    "    dev_a_merge = pd.merge(left=dev_a_mean, right=data_total, how='left',\n",
    "               left_on='id', right_on='question_id')  # match the corresponding question and reply\n",
    "    dev_a_merge.rename(columns={\"rating\": \"rate\"}, inplace=True)\n",
    "    dev_a_merge.dropna(inplace=True)\n",
    "    dev_a_merge[['question_text', 'reply_text', 'rate']].to_csv(''.join([file_path, g, '_dev_a', '.csv']), encoding='utf8', index=False)\n",
    "    \n",
    "    # (b) replies in group g and their own annotations\n",
    "    dev_b = data_dev[data_dev['group'] == g]\n",
    "    dev_b_mean = dev_b.groupby('id')[\"rating\"].mean().reset_index() # get the mean of the rating as the new label\n",
    "    dev_b_merge = pd.merge(left=dev_b_mean, right=data_total, how='left',\n",
    "               left_on='id', right_on='question_id')  # match the corresponding question and reply\n",
    "    dev_b_merge.rename(columns={\"rating\": \"rate\"}, inplace=True)\n",
    "    dev_b_merge.dropna(inplace=True)\n",
    "    dev_b_merge[['question_text', 'reply_text', 'rate']].to_csv(''.join([file_path, g, '_dev_b', '.csv']), encoding='utf8', index=False)  \n",
    "    \n",
    "    # (c) replies in group g but with others' annotations\n",
    "    dev_c = pd.merge(left=dev_b_mean[['id']], right=dev_a_mean, how='left',\n",
    "                    left_on='id', right_on='id')\n",
    "    # dev_b_mean is just the rows of the g group, dev_a_mean is the rate from others, so use left join\n",
    "    dev_c_merge = pd.merge(left=dev_c, right=data_total, how='left',\n",
    "                        left_on='id', right_on='question_id')  # match the corresponding question and reply\n",
    "    dev_c_merge.rename(columns={\"rating\": \"rate\"}, inplace=True)\n",
    "    dev_c_merge.dropna(inplace=True)\n",
    "    dev_c_merge[['question_text', 'reply_text', 'rate']].to_csv(''.join([file_path, g, '_dev_c', '.csv']), encoding='utf8', index=False)  "
   ]
  },
  {
   "cell_type": "markdown",
   "id": "decd7179-1912-49dd-8a8f-8b1acef4672a",
   "metadata": {},
   "source": [
    "## Generate testset for problem12"
   ]
  },
  {
   "cell_type": "code",
   "execution_count": 12,
   "id": "3eb58b86-b775-44b9-9ed2-aa8330d17aed",
   "metadata": {},
   "outputs": [],
   "source": [
    "data_use = data_test[['id']].drop_duplicates()\n",
    "data_use = pd.merge(left=data_use[['id']], right=data_total, how='left',\n",
    "                    left_on='id', right_on='question_id')\n",
    "\n",
    "data_use[['id', 'question_text', 'reply_text']].to_csv('data_test.csv', encoding='utf8', index=False)"
   ]
  },
  {
   "cell_type": "code",
   "execution_count": null,
   "id": "4e2b5082-ff09-40d0-b24e-7212cb49048c",
   "metadata": {},
   "outputs": [],
   "source": []
  }
 ],
 "metadata": {
  "kernelspec": {
   "display_name": "Python 3 (ipykernel)",
   "language": "python",
   "name": "python3"
  },
  "language_info": {
   "codemirror_mode": {
    "name": "ipython",
    "version": 3
   },
   "file_extension": ".py",
   "mimetype": "text/x-python",
   "name": "python",
   "nbconvert_exporter": "python",
   "pygments_lexer": "ipython3",
   "version": "3.7.11"
  }
 },
 "nbformat": 4,
 "nbformat_minor": 5
}
